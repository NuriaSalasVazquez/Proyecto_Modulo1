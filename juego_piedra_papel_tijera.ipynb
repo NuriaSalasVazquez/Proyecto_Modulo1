{
 "cells": [
  {
   "cell_type": "markdown",
   "metadata": {},
   "source": [
    "                      🎉🎉Juego piedra papel o tijera🎉🎉"
   ]
  },
  {
   "cell_type": "code",
   "execution_count": null,
   "metadata": {},
   "outputs": [],
   "source": [
    "import random\n",
    "\n",
    "print(\"¡BIENVENIDO!🎉🎊¿Preparado para jugar uno de los juegos más clásicos de la historia?\")\n",
    "print(\"Te vamos a dar 10 oportunidades para elegir entre piedra, papel o tijera, vas a competir VS la computadora\") \n",
    "print(\"Solo tienes que lograr 3 puntos para ganar....¿te atreves a jugar?🤔\")\n",
    "print(\"¡Vamos a por ello! 🎊\")\n",
    "\n",
    "def obtener_eleccion_usuario():\n",
    "    opciones = [\"piedra\", \"papel\", \"tijera\"]\n",
    "    while True:\n",
    "        eleccion = input(\"Elige piedra, papel o tijera: \").lower()\n",
    "        if eleccion in opciones:\n",
    "            return eleccion\n",
    "        else:\n",
    "            print(\"Entrada no válida. Intenta de nuevo.\")\n",
    "\n",
    "def obtener_eleccion_computadora():\n",
    "    return random.choice([\"piedra\", \"papel\", \"tijera\"])\n",
    "\n",
    "def determinar_ganador(jugador, computadora):\n",
    "    if jugador == computadora:\n",
    "        return \"Empate\"\n",
    "    elif (jugador == \"piedra\" and computadora == \"tijera\") or \\\n",
    "         (jugador == \"tijera\" and computadora == \"papel\") or \\\n",
    "         (jugador == \"papel\" and computadora == \"piedra\"):\n",
    "        return \"Jugador\"\n",
    "    else:\n",
    "        return \"Computadora\"\n",
    "\n",
    "def jugar():\n",
    "    puntos_objetivo = 3  # Se necesitan 3 puntos para ganar\n",
    "    max_rondas = 10  # Máximo de 10 rondas\n",
    "    puntaje_jugador = 0\n",
    "    puntaje_computadora = 0\n",
    "    rondas_jugadas = 0\n",
    "\n",
    "    while puntaje_jugador < puntos_objetivo and puntaje_computadora < puntos_objetivo and rondas_jugadas < max_rondas:\n",
    "        jugador = obtener_eleccion_usuario()\n",
    "        computadora = obtener_eleccion_computadora()\n",
    "        print(f\"Computadora eligió: {computadora}\")\n",
    "        print(f\"Jugador eligió: {jugador}\")\n",
    "\n",
    "        ganador = determinar_ganador(jugador, computadora)\n",
    "        if ganador == \"Jugador\":\n",
    "            puntaje_jugador += 1\n",
    "            print(\"¡Ganaste esta ronda!\")\n",
    "        elif ganador == \"Computadora\":\n",
    "            puntaje_computadora += 1\n",
    "            print(\"La computadora gana esta ronda.\")\n",
    "        else:\n",
    "            print(\"Es un empate.\")\n",
    "\n",
    "        rondas_jugadas += 1\n",
    "        print(f\"Puntuación -> Jugador: {puntaje_jugador} | Computadora: {puntaje_computadora}\")\n",
    "        print(f\"Rondas jugadas: {rondas_jugadas}/{max_rondas}\\n\")\n",
    "\n",
    "    # Determinar el resultado final\n",
    "    if puntaje_jugador > puntaje_computadora:\n",
    "        print(\"🎉 ¡Felicidades! Ganaste el juego.\")\n",
    "    elif puntaje_jugador < puntaje_computadora:\n",
    "        print(\"😢 La computadora ganó el juego.\")\n",
    "    else:\n",
    "        print(\"🤝 Es un empate en el juego.\")\n",
    "\n",
    "# Iniciar el juego\n",
    "jugar()"
   ]
  }
 ],
 "metadata": {
  "kernelspec": {
   "display_name": "base",
   "language": "python",
   "name": "python3"
  },
  "language_info": {
   "codemirror_mode": {
    "name": "ipython",
    "version": 3
   },
   "file_extension": ".py",
   "mimetype": "text/x-python",
   "name": "python",
   "nbconvert_exporter": "python",
   "pygments_lexer": "ipython3",
   "version": "3.12.7"
  }
 },
 "nbformat": 4,
 "nbformat_minor": 2
}
